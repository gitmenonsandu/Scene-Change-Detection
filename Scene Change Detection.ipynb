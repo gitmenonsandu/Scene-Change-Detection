{
 "cells": [
  {
   "cell_type": "code",
   "execution_count": 14,
   "metadata": {
    "collapsed": true
   },
   "outputs": [],
   "source": [
    "import numpy as np\n",
    "import cv2"
   ]
  },
  {
   "cell_type": "code",
   "execution_count": 15,
   "metadata": {
    "collapsed": false
   },
   "outputs": [],
   "source": [
    "cap = cv2.VideoCapture('arjun.3gp')\n",
    "cnt=10\n"
   ]
  },
  {
   "cell_type": "code",
   "execution_count": 16,
   "metadata": {
    "collapsed": false
   },
   "outputs": [],
   "source": [
    "def LBP(frame):\n",
    "    for i in range(len(frame)):\n",
    "        for j in range(len(frame[0])):\n",
    "            if i==0 or j==0 or i==len(frame)-1 or j==len(frame[0])-1:\n",
    "                continue\n",
    "            try: \n",
    "                gc=frame[i][j]\n",
    "                newvalue=0\n",
    "                if frame[i-1][j-1]>=gc:\n",
    "                    newvalue+=1\n",
    "                if frame[i-1][j]>=gc:\n",
    "                    newvalue+=2\n",
    "                if frame[i-1][j+1]>=gc:\n",
    "                    newvalue+=4\n",
    "                if frame[i][j+1]>=gc:\n",
    "                    newvalue+=8\n",
    "                if frame[i+1][j+1]>=gc:\n",
    "                    newvalue+=16\n",
    "                if frame[i+1][j]>=gc:\n",
    "                    newvalue+=32\n",
    "                if frame[i+1][j-1]>=gc:\n",
    "                    newvalue+=64\n",
    "                if frame[i][j-1]>=gc:\n",
    "                    newvalue+=128\n",
    "\n",
    "                frame[i][j]=newvalue\n",
    "            except:\n",
    "                print i,j\n",
    "    return frame"
   ]
  },
  {
   "cell_type": "code",
   "execution_count": 17,
   "metadata": {
    "collapsed": false
   },
   "outputs": [],
   "source": [
    "def getCuts(cap):\n",
    "    num=0\n",
    "    aslbphd=[]\n",
    "    cnt=0\n",
    "    while(True):\n",
    "\n",
    "        try:  \n",
    "            ret, frame = cap.read()\n",
    "            # Our operations on the frame come here\n",
    "            gray = cv2.cvtColor(frame, cv2.COLOR_BGR2GRAY)\n",
    "            disFrame=frame\n",
    "            frame=LBP(gray)\n",
    "            if num==0:\n",
    "                prevframe=frame\n",
    "                num+=1\n",
    "                continue\n",
    "\n",
    "            num+=1\n",
    "            diff=0\n",
    "            lbph=cv2.calcHist([frame],[0],None,[256],[0,256])\n",
    "            prevlbph=cv2.calcHist([prevframe],[0],None,[256],[0,256])\n",
    "            for i in range(256):\n",
    "                diff+=abs(lbph[i]-prevlbph[i])\n",
    "\n",
    "            if diff[0]>=25000:\n",
    "                cnt+=1\n",
    "                print \"CUT \"+str(cnt)+\" Detected at frame \"+str(num)\n",
    "            aslbphd.append(diff)\n",
    "            prevframe=frame\n",
    "            # Display the resulting frame\n",
    "            cv2.imshow('frame',disFrame)\n",
    "            if cv2.waitKey(1) & 0xFF == ord('q'):\n",
    "                break\n",
    "        \n",
    "        except:\n",
    "            print num\n",
    "            break\n",
    "\n",
    "    cap.release()\n",
    "    cv2.destroyAllWindows()\n",
    "    print num"
   ]
  },
  {
   "cell_type": "code",
   "execution_count": 18,
   "metadata": {
    "collapsed": false
   },
   "outputs": [
    {
     "name": "stdout",
     "output_type": "stream",
     "text": [
      "CUT 1 Detected at frame 90\n",
      "CUT 2 Detected at frame 121\n",
      "CUT 3 Detected at frame 174\n",
      "CUT 4 Detected at frame 219\n",
      "CUT 5 Detected at frame 221\n",
      "CUT 6 Detected at frame 237\n",
      "CUT 7 Detected at frame 239\n",
      "CUT 8 Detected at frame 242\n",
      "CUT 9 Detected at frame 244\n",
      "CUT 10 Detected at frame 372\n",
      "CUT 11 Detected at frame 378\n",
      "CUT 12 Detected at frame 379\n",
      "CUT 13 Detected at frame 384\n",
      "CUT 14 Detected at frame 385\n",
      "CUT 15 Detected at frame 390\n",
      "CUT 16 Detected at frame 391\n",
      "CUT 17 Detected at frame 397\n",
      "CUT 18 Detected at frame 398\n",
      "CUT 19 Detected at frame 404\n",
      "CUT 20 Detected at frame 406\n",
      "CUT 21 Detected at frame 415\n",
      "CUT 22 Detected at frame 482\n",
      "CUT 23 Detected at frame 552\n",
      "CUT 24 Detected at frame 684\n",
      "CUT 25 Detected at frame 711\n",
      "CUT 26 Detected at frame 849\n",
      "CUT 27 Detected at frame 880\n",
      "CUT 28 Detected at frame 903\n",
      "CUT 29 Detected at frame 928\n",
      "CUT 30 Detected at frame 948\n",
      "CUT 31 Detected at frame 978\n",
      "CUT 32 Detected at frame 1024\n",
      "1124\n",
      "1124\n"
     ]
    }
   ],
   "source": [
    "getCuts(cap)"
   ]
  },
  {
   "cell_type": "code",
   "execution_count": null,
   "metadata": {
    "collapsed": true
   },
   "outputs": [],
   "source": []
  }
 ],
 "metadata": {
  "kernelspec": {
   "display_name": "Python 2",
   "language": "python",
   "name": "python2"
  },
  "language_info": {
   "codemirror_mode": {
    "name": "ipython",
    "version": 2
   },
   "file_extension": ".py",
   "mimetype": "text/x-python",
   "name": "python",
   "nbconvert_exporter": "python",
   "pygments_lexer": "ipython2",
   "version": "2.7.12"
  }
 },
 "nbformat": 4,
 "nbformat_minor": 2
}
